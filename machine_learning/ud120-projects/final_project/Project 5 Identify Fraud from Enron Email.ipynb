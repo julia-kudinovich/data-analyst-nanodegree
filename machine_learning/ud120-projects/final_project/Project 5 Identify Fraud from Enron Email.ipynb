{
 "cells": [
  {
   "cell_type": "markdown",
   "metadata": {},
   "source": [
    "### Importing libraries"
   ]
  },
  {
   "cell_type": "code",
   "execution_count": 44,
   "metadata": {
    "collapsed": false
   },
   "outputs": [],
   "source": [
    "import sys\n",
    "import pickle\n",
    "sys.path.append(\"../tools/\")\n",
    "\n",
    "from feature_format import featureFormat, targetFeatureSplit\n",
    "from tester import dump_classifier_and_data\n",
    "from sklearn.cross_validation import train_test_split\n",
    "from sklearn import tree\n",
    "from sklearn.metrics import accuracy_score\n",
    "import matplotlib.pyplot"
   ]
  },
  {
   "cell_type": "markdown",
   "metadata": {},
   "source": [
    "### Load the dictionary containing the dataset"
   ]
  },
  {
   "cell_type": "code",
   "execution_count": 48,
   "metadata": {
    "collapsed": true
   },
   "outputs": [],
   "source": [
    "with open(\"final_project_dataset.pkl\", \"r\") as data_file:\n",
    "    data_dict = pickle.load(data_file)"
   ]
  },
  {
   "cell_type": "markdown",
   "metadata": {},
   "source": [
    "### Data Exploration\n"
   ]
  },
  {
   "cell_type": "code",
   "execution_count": 38,
   "metadata": {
    "collapsed": false
   },
   "outputs": [
    {
     "name": "stdout",
     "output_type": "stream",
     "text": [
      "Number of data points (persons) in the data set: 146\n",
      "Number of features for each person:  21\n",
      "Number of POIs (persons of interest): 18\n"
     ]
    }
   ],
   "source": [
    "print  'Number of data points (persons) in the data set:', len(data_dict)\n",
    "\n",
    "#Number of features for each person\n",
    "num_features=0\n",
    "for person in data_dict:\n",
    "    num_features = len(data_dict[person])\n",
    "    break\n",
    "print 'Number of features for each person: ', num_features\n",
    "\n",
    "#Number of POIs (persons of interest)\n",
    "num_poi=0\n",
    "for person in data_dict:\n",
    "    if data_dict[person][\"poi\"]==1:\n",
    "        num_poi+=1\n",
    "        \n",
    "print 'Number of POIs (persons of interest):', num_poi\n"
   ]
  },
  {
   "cell_type": "code",
   "execution_count": 40,
   "metadata": {
    "collapsed": false
   },
   "outputs": [
    {
     "name": "stdout",
     "output_type": "stream",
     "text": [
      "Number of NaNs for  salary :  51\n",
      "Number of NaNs for  to_messages :  60\n",
      "Number of NaNs for  deferral_payments :  107\n",
      "Number of NaNs for  total_payments :  21\n",
      "Number of NaNs for  exercised_stock_options :  44\n",
      "Number of NaNs for  bonus :  64\n",
      "Number of NaNs for  restricted_stock :  36\n",
      "Number of NaNs for  shared_receipt_with_poi :  60\n",
      "Number of NaNs for  restricted_stock_deferred :  128\n",
      "Number of NaNs for  total_stock_value :  20\n",
      "Number of NaNs for  expenses :  51\n",
      "Number of NaNs for  loan_advances :  142\n",
      "Number of NaNs for  from_messages :  60\n",
      "Number of NaNs for  other :  53\n",
      "Number of NaNs for  from_this_person_to_poi :  60\n",
      "Number of NaNs for  poi :  0\n",
      "Number of NaNs for  director_fees :  129\n",
      "Number of NaNs for  deferred_income :  97\n",
      "Number of NaNs for  long_term_incentive :  80\n",
      "Number of NaNs for  email_address :  35\n",
      "Number of NaNs for  from_poi_to_this_person :  60\n"
     ]
    }
   ],
   "source": [
    "### Getting the list of all the features in the dataset\n",
    "n=0\n",
    "features=[]\n",
    "for key, value in data_dict.iteritems():\n",
    "    if n==0:\n",
    "        features =  value.keys()\n",
    "    n+=1\n",
    "    \n",
    "###Count how many NaN each feature has and output feature name + count\n",
    "def countNaN(feature_name):\n",
    "    count=0\n",
    "    for person in data_dict:\n",
    "        if data_dict[person][feature_name] == 'NaN':\n",
    "            count += 1\n",
    "    print 'Number of NaNs for ', feature_name, ': ', count\n",
    "    \n",
    "for f in features:\n",
    "    countNaN(f)"
   ]
  },
  {
   "cell_type": "markdown",
   "metadata": {},
   "source": [
    "From above we see that there are several features with many missing values: `deferral_payments, restricted_stock_deferred, loan_advances, loan_advances , director_fees ,deferred_income`. All of these fetures have around 100 and above missing values. Mentioned features may not be really good to use in the algorithm.\n",
    "\n",
    "Also, `email_address` should not be used as a feature because email is unique for each person and can not be used to make distinction between POI or not POI. \n",
    "\n",
    "Let's see if there are any outliers in the finacial data. First, I want to plot salary and bonus."
   ]
  },
  {
   "cell_type": "code",
   "execution_count": 50,
   "metadata": {
    "collapsed": false
   },
   "outputs": [
    {
     "data": {
      "image/png": "[encoded data removed]",
      "text/plain": [
       "<matplotlib.figure.Figure at 0xbc36b70>"
      ]
     },
     "metadata": {},
     "output_type": "display_data"
    }
   ],
   "source": [
    "features = ['salary', 'bonus']\n",
    "\n",
    "data = featureFormat(data_dict, features)\n",
    "\n",
    "for point in data:\n",
    "    salary = point[0]\n",
    "    bonus = point[1]\n",
    "    matplotlib.pyplot.scatter( salary, bonus )\n",
    "\n",
    "matplotlib.pyplot.xlabel(\"salary\")\n",
    "matplotlib.pyplot.ylabel(\"bonus\")\n",
    "matplotlib.pyplot.show()"
   ]
  },
  {
   "cell_type": "markdown",
   "metadata": {},
   "source": [
    "From the graph above we see that there is a very extreme outlier. Now, I will investigate who the oultier is and remove him fprm the dataset"
   ]
  },
  {
   "cell_type": "code",
   "execution_count": 57,
   "metadata": {
    "collapsed": false
   },
   "outputs": [
    {
     "name": "stdout",
     "output_type": "stream",
     "text": [
      "TOTAL\n"
     ]
    }
   ],
   "source": [
    "for person in data_dict:\n",
    "    if data_dict[person]['salary']>2500000 and data_dict[person]['salary']!='NaN':\n",
    "        print person"
   ]
  },
  {
   "cell_type": "markdown",
   "metadata": {},
   "source": [
    "It appears that the data set has data point for total values. This data point should be removed."
   ]
  },
  {
   "cell_type": "code",
   "execution_count": 58,
   "metadata": {
    "collapsed": false
   },
   "outputs": [
    {
     "data": {
      "image/png": "[encoded data removed]",
      "text/plain": [
       "<matplotlib.figure.Figure at 0xba1e550>"
      ]
     },
     "metadata": {},
     "output_type": "display_data"
    }
   ],
   "source": [
    "#Remove 'Total' value\n",
    "data_dict.pop( \"TOTAL\", 0 ) \n",
    "data = featureFormat(data_dict, features)\n",
    "\n",
    "for point in data:\n",
    "    salary = point[0]\n",
    "    bonus = point[1]\n",
    "    matplotlib.pyplot.scatter( salary, bonus )\n",
    "\n",
    "matplotlib.pyplot.xlabel(\"salary\")\n",
    "matplotlib.pyplot.ylabel(\"bonus\")\n",
    "matplotlib.pyplot.show()"
   ]
  },
  {
   "cell_type": "markdown",
   "metadata": {},
   "source": [
    "Now, the plot looks much better. However, there are still some oultiers. Let's investigate further.\n"
   ]
  },
  {
   "cell_type": "code",
   "execution_count": 62,
   "metadata": {
    "collapsed": false
   },
   "outputs": [
    {
     "name": "stdout",
     "output_type": "stream",
     "text": [
      "LAY KENNETH L  - POI? - True\n",
      "SKILLING JEFFREY K  - POI? - True\n"
     ]
    }
   ],
   "source": [
    "for key, value in data_dict.iteritems():\n",
    "    name = key\n",
    "    salary = value[\"salary\"]\n",
    "    bonus = value[\"bonus\"]\n",
    "    poi = value['poi']\n",
    "    if (salary!= 'NaN' and bonus!='NaN') and (int(salary)>= 1000000 and int(bonus)>=5000000):\n",
    "        print name, ' - POI? -', poi"
   ]
  },
  {
   "cell_type": "markdown",
   "metadata": {},
   "source": [
    "Even though LAY KENNETH L and SKILLING JEFFREY K are outliers we can not remove them form the dataset since they are known POIs."
   ]
  },
  {
   "cell_type": "markdown",
   "metadata": {},
   "source": [
    "### Feature Selection\n",
    "\n",
    "Out of all the features I will start with using `salary, bonus, total_stock_value, exercised_stock_options, from_this_person_to_poi, from_poi_to_this_person`. These are the fetures that I feel have the highest impact on the probability of being a POI.\n",
    "Instead of using `from_this_person_to_poi` and `from_poi_to_this_person` directly I want to create 2 new features:\n",
    "proportion of `from_this_person_to_poi` and `from_poi_to_this_person` in total emails. Absolute value of emails to/from POI does not make much sence by itself. If one person has sent 10 emails to POI but his total emails sent is 20 the proprotion is 0.5. While another person have also sent 10 emails but the total number sent is 100 making the prorption 0.1. The first person is  communicating more often with POI even though their total count of emails to POI is the same."
   ]
  },
  {
   "cell_type": "code",
   "execution_count": 80,
   "metadata": {
    "collapsed": false
   },
   "outputs": [],
   "source": [
    "for person in data_dict:\n",
    "    if data_dict[person]['from_this_person_to_poi']!='NaN':\n",
    "        data_dict[person]['from_this_person_to_poi_proportion'] \\\n",
    "        = int(data_dict[person]['from_this_person_to_poi'])/float(data_dict[person]['from_messages'])\n",
    "    else:\n",
    "        data_dict[person]['from_this_person_to_poi_proportion']='NaN'\n",
    "        \n",
    "        \n",
    "    if data_dict[person]['from_poi_to_this_person']!='NaN':\n",
    "        data_dict[person]['from_poi_to_this_person_proportion'] \\\n",
    "        = int(data_dict[person]['from_poi_to_this_person'])/float(data_dict[person]['to_messages'])\n",
    "    else:\n",
    "        data_dict[person]['from_poi_to_this_person_proportion']='NaN'\n",
    "        \n"
   ]
  },
  {
   "cell_type": "code",
   "execution_count": 93,
   "metadata": {
    "collapsed": false
   },
   "outputs": [],
   "source": [
    "features_list = ['poi','salary', 'bonus', 'total_stock_value', 'exercised_stock_options', 'from_this_person_to_poi_proportion',\n",
    "                 'from_poi_to_this_person_proportion']\n",
    "\n",
    "my_dataset = data_dict\n",
    "\n",
    "### Extract features and labels from dataset for local testing\n",
    "data = featureFormat(my_dataset, features_list, sort_keys = True)\n",
    "labels, features = targetFeatureSplit(data)"
   ]
  },
  {
   "cell_type": "markdown",
   "metadata": {},
   "source": [
    "### Trying a varity of classifiers"
   ]
  },
  {
   "cell_type": "code",
   "execution_count": 92,
   "metadata": {
    "collapsed": false
   },
   "outputs": [
    {
     "name": "stdout",
     "output_type": "stream",
     "text": [
      "Accuracy Score: 0.825\n"
     ]
    }
   ],
   "source": [
    "##Splitting the data into train and test\n",
    "features_train, features_test, labels_train, labels_test=train_test_split(features, labels, test_size=.3,random_state=42)\n",
    "\n",
    "clf=tree.DecisionTreeClassifier()\n",
    "clf.fit(features_train, labels_train)\n",
    "\n",
    "pred=clf.predict(features_test)\n",
    "print 'Accuracy Score:' , accuracy_score(pred,labels_test)"
   ]
  },
  {
   "cell_type": "markdown",
   "metadata": {},
   "source": [
    "#### Naive Bayes"
   ]
  },
  {
   "cell_type": "code",
   "execution_count": null,
   "metadata": {
    "collapsed": true
   },
   "outputs": [],
   "source": [
    "from sklearn.naive_bayes import GaussianNB\n",
    "clf = GaussianNB()\n"
   ]
  }
 ],
 "metadata": {
  "kernelspec": {
   "display_name": "Python 2",
   "language": "python",
   "name": "python2"
  },
  "language_info": {
   "codemirror_mode": {
    "name": "ipython",
    "version": 2
   },
   "file_extension": ".py",
   "mimetype": "text/x-python",
   "name": "python",
   "nbconvert_exporter": "python",
   "pygments_lexer": "ipython2",
   "version": "2.7.13"
  }
 },
 "nbformat": 4,
 "nbformat_minor": 2
}
