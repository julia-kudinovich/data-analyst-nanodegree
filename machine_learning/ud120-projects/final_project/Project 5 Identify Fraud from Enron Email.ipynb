{
 "cells": [
  {
   "cell_type": "markdown",
   "metadata": {},
   "source": [
    "# Table of Contents\n",
    "* [Project 5 Identify Fraud from Enron Email](#Project-5-Identify-Fraud-from-Enron-Email)\n",
    "\t* [Question 1: Summarize for us the goal of this project and how machine learning is useful in trying to accomplish it. As part of your answer, give some background on the dataset and how it can be used to answer the project question. Were there any outliers in the data when you got it, and how did you handle those?](#Question-1:-Summarize-for-us-the-goal-of-this-project-and-how-machine-learning-is-useful-in-trying-to-accomplish-it.-As-part-of-your-answer,-give-some-background-on-the-dataset-and-how-it-can-be-used-to-answer-the-project-question.-Were-there-any-outliers-in-the-data-when-you-got-it,-and-how-did-you-handle-those?)\n",
    "\t\t* [Project Overview](#Project-Overview)\n",
    "\t\t* [Data Exploration](#Data-Exploration)\n",
    "\t\t* [Outliers](#Outliers)\n",
    "\t* [Question 2: What features did you end up using in your POI identifier, and what selection process did you use to pick them? Did you have to do any scaling? Why or why not? As part of the assignment, you should attempt to engineer your own feature that does not come ready-made in the dataset -- explain what feature you tried to make, and the rationale behind it. In your feature selection step, if you used an algorithm like a decision tree, please also give the feature importances of the features that you use, and if you used an automated feature selection function like SelectKBest, please report the feature scores and reasons for your choice of parameter values.](#Question-2:-What-features-did-you-end-up-using-in-your-POI-identifier,-and-what-selection-process-did-you-use-to-pick-them?-Did-you-have-to-do-any-scaling?-Why-or-why-not?-As-part-of-the-assignment,-you-should-attempt-to-engineer-your-own-feature-that-does-not-come-ready-made-in-the-dataset----explain-what-feature-you-tried-to-make,-and-the-rationale-behind-it.-In-your-feature-selection-step,-if-you-used-an-algorithm-like-a-decision-tree,-please-also-give-the-feature-importances-of-the-features-that-you-use,-and-if-you-used-an-automated-feature-selection-function-like-SelectKBest,-please-report-the-feature-scores-and-reasons-for-your-choice-of-parameter-values.)\n",
    "\t\t* [Feature Selection](#Feature-Selection)\n",
    "\t\t\t* [Dealing with missing values](#Dealing-with-missing-values)\n",
    "\t\t\t* [New feature creation](#New-feature-creation)\n",
    "\t\t\t* [Feature scaling](#Feature-scaling)\n",
    "\t\t* [0.2.2 Trying a varity of classifiers](#0.2.2-Trying-a-varity-of-classifiers)\n",
    "\t\t\t* [0.2.2.1 Decision Trees](#0.2.2.1-Decision-Trees)\n",
    "\t\t\t* [0.2.2.2 Naive Bayes](#0.2.2.2-Naive-Bayes)\n",
    "\t\t* [0.2.3 Parameter Tuning](#0.2.3-Parameter-Tuning)\n",
    "\t\t\t* [0.2.3.1 Tuning features list](#0.2.3.1-Tuning-features-list)\n"
   ]
  },
  {
   "cell_type": "markdown",
   "metadata": {},
   "source": [
    "# Project 5 Identify Fraud from Enron Email"
   ]
  },
  {
   "cell_type": "markdown",
   "metadata": {},
   "source": [
    "## Question 1: Summarize for us the goal of this project and how machine learning is useful in trying to accomplish it. As part of your answer, give some background on the dataset and how it can be used to answer the project question. Were there any outliers in the data when you got it, and how did you handle those?"
   ]
  },
  {
   "cell_type": "markdown",
   "metadata": {},
   "source": [
    "### Project Overview"
   ]
  },
  {
   "cell_type": "markdown",
   "metadata": {},
   "source": [
    "Enron once was a one of the largest corporation in the energy sector. Fraudulent activities of upper management led Enron to collapse in 2002. \n",
    "\n",
    "In this project, I will be applying machine learning techniques to Enron dataset to identify persons of interest (POI) who may have committed fraud that lead to the Enron collapse. Enron dataset consists of financial and email data that was made publicly available after the Enron scandal.\n",
    "\n",
    "There are 146 data points in the dataset that represent 146 upper management persons in the company. 18 persons out of the 146 are already identified as POIs. My goal will be to build a machine learning algorithms (POI identifier) based on financial and email data that is publicly available in the result of the Enron scandal. \n",
    "\n",
    "Machine learning is very useful in this kind of task as it can learn from the dataset, discover patterns in the data and classify new data based on the patterns.\n"
   ]
  },
  {
   "cell_type": "code",
   "execution_count": 66,
   "metadata": {
    "collapsed": false
   },
   "outputs": [],
   "source": [
    "###Importing libraries\n",
    "\n",
    "import sys\n",
    "import pickle\n",
    "sys.path.append(\"../tools/\")\n",
    "\n",
    "from feature_format import featureFormat, targetFeatureSplit\n",
    "from tester import dump_classifier_and_data\n",
    "from sklearn.cross_validation import train_test_split\n",
    "from sklearn import tree\n",
    "from sklearn.metrics import accuracy_score\n",
    "import matplotlib.pyplot\n",
    "from tester import test_classifier\n",
    "from sklearn.naive_bayes import GaussianNB\n",
    "from sklearn.svm import SVC\n",
    "from sklearn.metrics import classification_report\n",
    "from sklearn.model_selection import GridSearchCV\n",
    "import numpy as np\n",
    "from sklearn.feature_selection import SelectKBest\n",
    "from sklearn.svm import SVC"
   ]
  },
  {
   "cell_type": "code",
   "execution_count": 3,
   "metadata": {
    "collapsed": true
   },
   "outputs": [],
   "source": [
    "###  Load the dictionary containing the dataset\n",
    "with open(\"final_project_dataset.pkl\", \"r\") as data_file:\n",
    "    data_dict = pickle.load(data_file)"
   ]
  },
  {
   "cell_type": "markdown",
   "metadata": {},
   "source": [
    "### Data Exploration"
   ]
  },
  {
   "cell_type": "code",
   "execution_count": 5,
   "metadata": {
    "collapsed": false
   },
   "outputs": [
    {
     "name": "stdout",
     "output_type": "stream",
     "text": [
      "Number of data points (persons) in the data set: 146\n",
      "Number of features for each person:  21\n",
      "Number of POIs (persons of interest): 18\n"
     ]
    }
   ],
   "source": [
    "print  'Number of data points (persons) in the data set:', len(data_dict)\n",
    "\n",
    "#Number of features for each person\n",
    "num_features=0\n",
    "for person in data_dict:\n",
    "    num_features = len(data_dict[person])\n",
    "    break\n",
    "print 'Number of features for each person: ', num_features\n",
    "\n",
    "#Number of POIs (persons of interest)\n",
    "num_poi=0\n",
    "for person in data_dict:\n",
    "    if data_dict[person][\"poi\"]==1:\n",
    "        num_poi+=1\n",
    "        \n",
    "print 'Number of POIs (persons of interest):', num_poi"
   ]
  },
  {
   "cell_type": "markdown",
   "metadata": {},
   "source": [
    "### Outliers"
   ]
  },
  {
   "cell_type": "markdown",
   "metadata": {},
   "source": [
    "Let's see if there are any outliers in the financial data. First, I want to plot salary and bonus."
   ]
  },
  {
   "cell_type": "code",
   "execution_count": 6,
   "metadata": {
    "collapsed": false
   },
   "outputs": [
    {
     "data": {
      "image/png": "[encoded data removed]",
      "text/plain": [
       "<matplotlib.figure.Figure at 0xa032f98>"
      ]
     },
     "metadata": {},
     "output_type": "display_data"
    }
   ],
   "source": [
    "features = ['salary', 'bonus']\n",
    "\n",
    "data = featureFormat(data_dict, features)\n",
    "\n",
    "for point in data:\n",
    "    salary = point[0]\n",
    "    bonus = point[1]\n",
    "    matplotlib.pyplot.scatter( salary, bonus )\n",
    "\n",
    "matplotlib.pyplot.xlabel(\"salary\")\n",
    "matplotlib.pyplot.ylabel(\"bonus\")\n",
    "matplotlib.pyplot.show()"
   ]
  },
  {
   "cell_type": "markdown",
   "metadata": {},
   "source": [
    "From the graph above we see that there is a very extreme outlier. Now, I will investigate who the outlier is and remove him from the dataset"
   ]
  },
  {
   "cell_type": "code",
   "execution_count": 7,
   "metadata": {
    "collapsed": false
   },
   "outputs": [
    {
     "name": "stdout",
     "output_type": "stream",
     "text": [
      "TOTAL\n"
     ]
    }
   ],
   "source": [
    "for person in data_dict:\n",
    "    if data_dict[person]['salary']>2500000 and data_dict[person]['salary']!='NaN':\n",
    "        print person"
   ]
  },
  {
   "cell_type": "markdown",
   "metadata": {},
   "source": [
    "It appears that the data set has data point for total values. This data point should be removed."
   ]
  },
  {
   "cell_type": "code",
   "execution_count": 8,
   "metadata": {
    "collapsed": false
   },
   "outputs": [
    {
     "data": {
      "image/png": "[encoded data removed]",
      "text/plain": [
       "<matplotlib.figure.Figure at 0xa032c18>"
      ]
     },
     "metadata": {},
     "output_type": "display_data"
    }
   ],
   "source": [
    "#Remove 'Total' value\n",
    "data_dict.pop( \"TOTAL\", 0 ) \n",
    "data = featureFormat(data_dict, features)\n",
    "\n",
    "for point in data:\n",
    "    salary = point[0]\n",
    "    bonus = point[1]\n",
    "    matplotlib.pyplot.scatter( salary, bonus )\n",
    "\n",
    "matplotlib.pyplot.xlabel(\"salary\")\n",
    "matplotlib.pyplot.ylabel(\"bonus\")\n",
    "matplotlib.pyplot.show()"
   ]
  },
  {
   "cell_type": "markdown",
   "metadata": {},
   "source": [
    "Now, the plot looks much better. However, there are still some outliers. Let's investigate further.\n"
   ]
  },
  {
   "cell_type": "code",
   "execution_count": 41,
   "metadata": {
    "collapsed": false
   },
   "outputs": [
    {
     "name": "stdout",
     "output_type": "stream",
     "text": [
      "LAY KENNETH L  - POI? - True\n",
      "SKILLING JEFFREY K  - POI? - True\n"
     ]
    }
   ],
   "source": [
    "for key, value in data_dict.iteritems():\n",
    "    name = key\n",
    "    salary = value[\"salary\"]\n",
    "    bonus = value[\"bonus\"]\n",
    "    poi = value['poi']\n",
    "    if (salary!= 'NaN' and bonus!='NaN') and (int(salary)>= 800000 and int(bonus)>=3000000):\n",
    "        print name, ' - POI? -', poi"
   ]
  },
  {
   "cell_type": "markdown",
   "metadata": {},
   "source": [
    "Even though LAY KENNETH L and SKILLING JEFFREY K are outliers we cannot remove them from the dataset since they are known POIs.\n",
    "\n",
    "Having total value in the dataset made me curious if there are any non person data points in the set. Below I will output all the names to see any odd entries."
   ]
  },
  {
   "cell_type": "code",
   "execution_count": 9,
   "metadata": {
    "collapsed": false
   },
   "outputs": [
    {
     "name": "stdout",
     "output_type": "stream",
     "text": [
      "METTS MARK\n",
      "BAXTER JOHN C\n",
      "ELLIOTT STEVEN\n",
      "CORDES WILLIAM R\n",
      "HANNON KEVIN P\n",
      "MORDAUNT KRISTINA M\n",
      "MEYER ROCKFORD G\n",
      "MCMAHON JEFFREY\n",
      "HORTON STANLEY C\n",
      "PIPER GREGORY F\n",
      "HUMPHREY GENE E\n",
      "UMANOFF ADAM S\n",
      "BLACHMAN JEREMY M\n",
      "SUNDE MARTIN\n",
      "GIBBS DANA R\n",
      "LOWRY CHARLES P\n",
      "COLWELL WESLEY\n",
      "MULLER MARK S\n",
      "JACKSON CHARLENE R\n",
      "WESTFAHL RICHARD K\n",
      "WALTERS GARETH W\n",
      "WALLS JR ROBERT H\n",
      "KITCHEN LOUISE\n",
      "CHAN RONNIE\n",
      "BELFER ROBERT\n",
      "SHANKMAN JEFFREY A\n",
      "WODRASKA JOHN\n",
      "BERGSIEKER RICHARD P\n",
      "URQUHART JOHN A\n",
      "BIBI PHILIPPE A\n",
      "RIEKER PAULA H\n",
      "WHALEY DAVID A\n",
      "BECK SALLY W\n",
      "HAUG DAVID L\n",
      "ECHOLS JOHN B\n",
      "MENDELSOHN JOHN\n",
      "HICKERSON GARY J\n",
      "CLINE KENNETH W\n",
      "LEWIS RICHARD\n",
      "HAYES ROBERT E\n",
      "MCCARTY DANNY J\n",
      "KOPPER MICHAEL J\n",
      "LEFF DANIEL P\n",
      "LAVORATO JOHN J\n",
      "BERBERIAN DAVID\n",
      "DETMERING TIMOTHY J\n",
      "WAKEHAM JOHN\n",
      "POWERS WILLIAM\n",
      "GOLD JOSEPH\n",
      "BANNANTINE JAMES M\n",
      "DUNCAN JOHN H\n",
      "SHAPIRO RICHARD S\n",
      "SHERRIFF JOHN R\n",
      "SHELBY REX\n",
      "LEMAISTRE CHARLES\n",
      "DEFFNER JOSEPH M\n",
      "KISHKILL JOSEPH G\n",
      "WHALLEY LAWRENCE G\n",
      "MCCONNELL MICHAEL S\n",
      "PIRO JIM\n",
      "DELAINEY DAVID W\n",
      "SULLIVAN-SHAKLOVITZ COLLEEN\n",
      "WROBEL BRUCE\n",
      "LINDHOLM TOD A\n",
      "MEYER JEROME J\n",
      "LAY KENNETH L\n",
      "BUTTS ROBERT H\n",
      "OLSON CINDY K\n",
      "MCDONALD REBECCA\n",
      "CUMBERLAND MICHAEL S\n",
      "GAHN ROBERT S\n",
      "MCCLELLAN GEORGE\n",
      "HERMANN ROBERT J\n",
      "SCRIMSHAW MATTHEW\n",
      "GATHMANN WILLIAM D\n",
      "HAEDICKE MARK E\n",
      "BOWEN JR RAYMOND M\n",
      "GILLIS JOHN\n",
      "FITZGERALD JAY L\n",
      "MORAN MICHAEL P\n",
      "REDMOND BRIAN L\n",
      "BAZELIDES PHILIP J\n",
      "BELDEN TIMOTHY N\n",
      "DURAN WILLIAM D\n",
      "THORN TERENCE H\n",
      "FASTOW ANDREW S\n",
      "FOY JOE\n",
      "CALGER CHRISTOPHER F\n",
      "RICE KENNETH D\n",
      "KAMINSKI WINCENTY J\n",
      "LOCKHART EUGENE E\n",
      "COX DAVID\n",
      "OVERDYKE JR JERE C\n",
      "PEREIRA PAULO V. FERRAZ\n",
      "STABLER FRANK\n",
      "SKILLING JEFFREY K\n",
      "BLAKE JR. NORMAN P\n",
      "SHERRICK JEFFREY B\n",
      "PRENTICE JAMES\n",
      "GRAY RODNEY\n",
      "PICKERING MARK R\n",
      "THE TRAVEL AGENCY IN THE PARK\n",
      "NOLES JAMES L\n",
      "KEAN STEVEN J\n",
      "FOWLER PEGGY\n",
      "WASAFF GEORGE\n",
      "WHITE JR THOMAS E\n",
      "CHRISTODOULOU DIOMEDES\n",
      "ALLEN PHILLIP K\n",
      "SHARP VICTORIA T\n",
      "JAEDICKE ROBERT\n",
      "WINOKUR JR. HERBERT S\n",
      "BROWN MICHAEL\n",
      "BADUM JAMES P\n",
      "HUGHES JAMES A\n",
      "REYNOLDS LAWRENCE\n",
      "DIMICHELE RICHARD G\n",
      "BHATNAGAR SANJAY\n",
      "CARTER REBECCA C\n",
      "BUCHANAN HAROLD G\n",
      "YEAP SOON\n",
      "MURRAY JULIA H\n",
      "GARLAND C KEVIN\n",
      "DODSON KEITH\n",
      "YEAGER F SCOTT\n",
      "HIRKO JOSEPH\n",
      "DIETRICH JANET R\n",
      "DERRICK JR. JAMES V\n",
      "FREVERT MARK A\n",
      "PAI LOU L\n",
      "BAY FRANKLIN R\n",
      "HAYSLETT RODERICK J\n",
      "FUGH JOHN L\n",
      "FALLON JAMES B\n",
      "KOENIG MARK E\n",
      "SAVAGE FRANK\n",
      "IZZO LAWRENCE L\n",
      "TILNEY ELIZABETH A\n",
      "MARTIN AMANDA K\n",
      "BUY RICHARD B\n",
      "GRAMM WENDY L\n",
      "CAUSEY RICHARD A\n",
      "TAYLOR MITCHELL S\n",
      "DONAHUE JR JEFFREY M\n",
      "GLISAN JR BEN F\n"
     ]
    }
   ],
   "source": [
    "for key, value in data_dict.iteritems():\n",
    "    name = key\n",
    "    print name"
   ]
  },
  {
   "cell_type": "markdown",
   "metadata": {},
   "source": [
    "Looking through the names I noticed `THE TRAVEL AGENCY IN THE PARK` which does not seem to represent a person. Moreover, data for the The travel Agency is mostly NaNs. I am excluding `THE TRAVEL AGENCY IN THE PARK` from the datatset as well."
   ]
  },
  {
   "cell_type": "code",
   "execution_count": 10,
   "metadata": {
    "collapsed": false
   },
   "outputs": [
    {
     "data": {
      "text/plain": [
       "{'bonus': 'NaN',\n",
       " 'deferral_payments': 'NaN',\n",
       " 'deferred_income': 'NaN',\n",
       " 'director_fees': 'NaN',\n",
       " 'email_address': 'NaN',\n",
       " 'exercised_stock_options': 'NaN',\n",
       " 'expenses': 'NaN',\n",
       " 'from_messages': 'NaN',\n",
       " 'from_poi_to_this_person': 'NaN',\n",
       " 'from_this_person_to_poi': 'NaN',\n",
       " 'loan_advances': 'NaN',\n",
       " 'long_term_incentive': 'NaN',\n",
       " 'other': 362096,\n",
       " 'poi': False,\n",
       " 'restricted_stock': 'NaN',\n",
       " 'restricted_stock_deferred': 'NaN',\n",
       " 'salary': 'NaN',\n",
       " 'shared_receipt_with_poi': 'NaN',\n",
       " 'to_messages': 'NaN',\n",
       " 'total_payments': 362096,\n",
       " 'total_stock_value': 'NaN'}"
      ]
     },
     "execution_count": 10,
     "metadata": {},
     "output_type": "execute_result"
    }
   ],
   "source": [
    "data_dict.pop( \"THE TRAVEL AGENCY IN THE PARK\", 0 ) "
   ]
  },
  {
   "cell_type": "markdown",
   "metadata": {},
   "source": [
    "## Question 2: What features did you end up using in your POI identifier, and what selection process did you use to pick them? Did you have to do any scaling? Why or why not? As part of the assignment, you should attempt to engineer your own feature that does not come ready-made in the dataset -- explain what feature you tried to make, and the rationale behind it. In your feature selection step, if you used an algorithm like a decision tree, please also give the feature importances of the features that you use, and if you used an automated feature selection function like SelectKBest, please report the feature scores and reasons for your choice of parameter values."
   ]
  },
  {
   "cell_type": "markdown",
   "metadata": {},
   "source": [
    "### Feature Selection"
   ]
  },
  {
   "cell_type": "markdown",
   "metadata": {},
   "source": [
    "####  Dealing with missing values"
   ]
  },
  {
   "cell_type": "code",
   "execution_count": 11,
   "metadata": {
    "collapsed": false,
    "scrolled": false
   },
   "outputs": [
    {
     "name": "stdout",
     "output_type": "stream",
     "text": [
      "Number of NaNs for salary : 50\n",
      "Percent of POI having NaNs: 5.56 %\n",
      "Percent of non POI having NaNs: 38.28 %\n",
      "\n",
      "\n",
      "Number of NaNs for to_messages : 58\n",
      "Percent of POI having NaNs: 22.22 %\n",
      "Percent of non POI having NaNs: 42.19 %\n",
      "\n",
      "\n",
      "Number of NaNs for deferral_payments : 106\n",
      "Percent of POI having NaNs: 72.22 %\n",
      "Percent of non POI having NaNs: 72.66 %\n",
      "\n",
      "\n",
      "Number of NaNs for total_payments : 21\n",
      "Percent of POI having NaNs: 0.0 %\n",
      "Percent of non POI having NaNs: 16.41 %\n",
      "\n",
      "\n",
      "Number of NaNs for exercised_stock_options : 43\n",
      "Percent of POI having NaNs: 33.33 %\n",
      "Percent of non POI having NaNs: 28.91 %\n",
      "\n",
      "\n",
      "Number of NaNs for bonus : 63\n",
      "Percent of POI having NaNs: 11.11 %\n",
      "Percent of non POI having NaNs: 47.66 %\n",
      "\n",
      "\n",
      "Number of NaNs for restricted_stock : 35\n",
      "Percent of POI having NaNs: 5.56 %\n",
      "Percent of non POI having NaNs: 26.56 %\n",
      "\n",
      "\n",
      "Number of NaNs for shared_receipt_with_poi : 58\n",
      "Percent of POI having NaNs: 22.22 %\n",
      "Percent of non POI having NaNs: 42.19 %\n",
      "\n",
      "\n",
      "Number of NaNs for restricted_stock_deferred : 127\n",
      "Percent of POI having NaNs: 100.0 %\n",
      "Percent of non POI having NaNs: 85.16 %\n",
      "\n",
      "\n",
      "Number of NaNs for total_stock_value : 19\n",
      "Percent of POI having NaNs: 0.0 %\n",
      "Percent of non POI having NaNs: 14.84 %\n",
      "\n",
      "\n",
      "Number of NaNs for expenses : 50\n",
      "Percent of POI having NaNs: 0.0 %\n",
      "Percent of non POI having NaNs: 39.06 %\n",
      "\n",
      "\n",
      "Number of NaNs for loan_advances : 141\n",
      "Percent of POI having NaNs: 94.44 %\n",
      "Percent of non POI having NaNs: 96.88 %\n",
      "\n",
      "\n",
      "Number of NaNs for from_messages : 58\n",
      "Percent of POI having NaNs: 22.22 %\n",
      "Percent of non POI having NaNs: 42.19 %\n",
      "\n",
      "\n",
      "Number of NaNs for other : 53\n",
      "Percent of POI having NaNs: 0.0 %\n",
      "Percent of non POI having NaNs: 41.41 %\n",
      "\n",
      "\n",
      "Number of NaNs for from_this_person_to_poi : 58\n",
      "Percent of POI having NaNs: 22.22 %\n",
      "Percent of non POI having NaNs: 42.19 %\n",
      "\n",
      "\n",
      "Number of NaNs for director_fees : 128\n",
      "Percent of POI having NaNs: 100.0 %\n",
      "Percent of non POI having NaNs: 85.94 %\n",
      "\n",
      "\n",
      "Number of NaNs for deferred_income : 96\n",
      "Percent of POI having NaNs: 38.89 %\n",
      "Percent of non POI having NaNs: 69.53 %\n",
      "\n",
      "\n",
      "Number of NaNs for long_term_incentive : 79\n",
      "Percent of POI having NaNs: 33.33 %\n",
      "Percent of non POI having NaNs: 57.03 %\n",
      "\n",
      "\n",
      "Number of NaNs for email_address : 33\n",
      "Percent of POI having NaNs: 0.0 %\n",
      "Percent of non POI having NaNs: 25.78 %\n",
      "\n",
      "\n",
      "Number of NaNs for from_poi_to_this_person : 58\n",
      "Percent of POI having NaNs: 22.22 %\n",
      "Percent of non POI having NaNs: 42.19 %\n",
      "\n",
      "\n"
     ]
    }
   ],
   "source": [
    "### Getting the list of all the features in the dataset\n",
    "n=0\n",
    "features=[]\n",
    "for key, value in data_dict.iteritems():\n",
    "    if n==0:\n",
    "        features =  value.keys()\n",
    "    n+=1\n",
    "    \n",
    "###Count how many NaN each feature has and output feature name + coun and how many missing values are related to POI or non POI\n",
    "def countNaN(feature_name):\n",
    "    count=0\n",
    "    count_POI=0\n",
    "    count_non_POI = 0\n",
    "    for person in data_dict:\n",
    "        if data_dict[person][feature_name] == 'NaN':\n",
    "            count += 1\n",
    "            if data_dict[person]['poi']==1:\n",
    "                count_POI+=1\n",
    "            elif data_dict[person]['poi']==0:\n",
    "                count_non_POI+=1\n",
    "    if count>0:           \n",
    "        print 'Number of NaNs for', feature_name, ':', count\n",
    "        print  \"Percent of POI having NaNs:\", round(100* count_POI/float(18),2), \"%\"\n",
    "        print   \"Percent of non POI having NaNs:\", round(100* count_non_POI/float(146-18),2), \"%\"\n",
    "        print \"\\n\"\n",
    "    \n",
    "for f in features:\n",
    "    countNaN(f)"
   ]
  },
  {
   "cell_type": "markdown",
   "metadata": {},
   "source": [
    "From above we see that there are several features with many missing values: `deferral_payments, restricted_stock_deferred, loan_advances,  director_fees ,deferred_income`. These features have around 100 and above missing values. Mentioned features will not be used in the algorithm since they do not contribute to finding patterns.\n",
    "\n",
    "Moreover, features where missing values percent is very different between POI and non POI should also not be considered in the feature selection because the algorithm may identify a difference in NaN count as a pattern to distinguish a POI which is a wrong way to go. I will select only features having 30% or less difference between POI and not POI NaNs percentages. However, I will make an exclusion to this adding both salary and bonus to features list. This is solely based on my intuition since I believe that both salary and bonus are important features in this case.\n",
    "\n",
    "Also, `email_address` should not be used as a feature because email is unique for each person and cannot be used to make distinction between POI or not POI. \n",
    "\n",
    "Preliminary feature list is below:\n"
   ]
  },
  {
   "cell_type": "code",
   "execution_count": 72,
   "metadata": {
    "collapsed": true
   },
   "outputs": [],
   "source": [
    "features_list_prelim = ['poi', 'salary', 'bonus', 'total_stock_value', 'exercised_stock_options', 'from_this_person_to_poi',\n",
    "                 'from_poi_to_this_person', 'to_messages',  'long_term_incentive', 'shared_receipt_with_poi',\n",
    "                        'from_messages',  'restricted_stock', 'total_payments']"
   ]
  },
  {
   "cell_type": "markdown",
   "metadata": {},
   "source": [
    "#### New feature creation"
   ]
  },
  {
   "cell_type": "markdown",
   "metadata": {},
   "source": [
    "Instead of using `from_this_person_to_poi` and `from_poi_to_this_person` directly I want to create 2 new features:\n",
    "proportion of `from_this_person_to_poi` and `from_poi_to_this_person` in total emails. Absolute value of emails to/from POI does not make much sense by itself. If one person has sent 10 emails to POI but his total emails sent is 20 the proportion is 0.5. While another person has also sent 10 emails but the total number sent is 100 making the proration 0.1. The first person is communicating more often with POI even though their total count of emails to POI is the same."
   ]
  },
  {
   "cell_type": "code",
   "execution_count": 73,
   "metadata": {
    "collapsed": false
   },
   "outputs": [],
   "source": [
    "for person in data_dict:\n",
    "    if data_dict[person]['from_this_person_to_poi']!='NaN':\n",
    "        data_dict[person]['from_this_person_to_poi_proportion'] \\\n",
    "        = int(data_dict[person]['from_this_person_to_poi'])/float(data_dict[person]['from_messages'])\n",
    "    else:\n",
    "        data_dict[person]['from_this_person_to_poi_proportion']='NaN'\n",
    "        \n",
    "        \n",
    "    if data_dict[person]['from_poi_to_this_person']!='NaN':\n",
    "        data_dict[person]['from_poi_to_this_person_proportion'] \\\n",
    "        = int(data_dict[person]['from_poi_to_this_person'])/float(data_dict[person]['to_messages'])\n",
    "    else:\n",
    "        data_dict[person]['from_poi_to_this_person_proportion']='NaN'"
   ]
  },
  {
   "cell_type": "markdown",
   "metadata": {},
   "source": [
    "I will add 2 new created features to my preliminary features_list in place of  `'from_poi_to_this_person', 'from_this_person_to_poi'` because new created features are the better representation of volume of communication between person and POI."
   ]
  },
  {
   "cell_type": "code",
   "execution_count": 74,
   "metadata": {
    "collapsed": false
   },
   "outputs": [],
   "source": [
    "features_list_prelim = ['poi', 'salary', 'bonus', 'total_stock_value', 'exercised_stock_options', 'from_this_person_to_poi_proportion',\n",
    "                 'from_poi_to_this_person_proportion', 'to_messages',  'long_term_incentive', 'shared_receipt_with_poi',\n",
    "                        'from_messages',  'restricted_stock', 'total_payments']\n",
    "\n",
    "my_dataset = data_dict\n",
    "\n",
    "### Extract features and labels from dataset for local testing\n",
    "data = featureFormat(my_dataset, features_list_prelim, sort_keys = True)\n",
    "labels, features = targetFeatureSplit(data)"
   ]
  },
  {
   "cell_type": "markdown",
   "metadata": {},
   "source": [
    "Next, I am using Select K Best automated feature selection function on my preliminary list to further narrow down features used."
   ]
  },
  {
   "cell_type": "code",
   "execution_count": 75,
   "metadata": {
    "collapsed": false
   },
   "outputs": [
    {
     "name": "stdout",
     "output_type": "stream",
     "text": [
      "salary 18.2896840434\n",
      "bonus 20.7922520472\n",
      "total_stock_value 24.1828986786\n",
      "exercised_stock_options 24.8150797332\n",
      "from_this_person_to_poi_proportion 16.409712548\n",
      "from_poi_to_this_person_proportion 3.12809174816\n",
      "to_messages 1.64634112944\n",
      "long_term_incentive 9.92218601319\n",
      "shared_receipt_with_poi 8.58942073168\n",
      "from_messages 0.169700947622\n",
      "restricted_stock 9.21281062198\n",
      "total_payments 8.77277773009\n"
     ]
    }
   ],
   "source": [
    "#Using k='all' do display all features\n",
    "k_best = SelectKBest(k='all')\n",
    "k_best.fit(features, labels)\n",
    "for impt_num, impt in enumerate(k_best.scores_):\n",
    "    print features_list_prelim[1+impt_num], impt"
   ]
  },
  {
   "cell_type": "markdown",
   "metadata": {},
   "source": [
    "From the result above it is seen that `to_messages and from_messages` have the lowest scores. I will exclude these 2 features form my feature_list.\n",
    "\n",
    "Also, newly created features `from_this_person_to_poi_proportion and from_poi_to_this_person_proportion` have significant score, therefore their creation is justified.\n",
    "\n",
    "Final features list is below:"
   ]
  },
  {
   "cell_type": "code",
   "execution_count": 76,
   "metadata": {
    "collapsed": true
   },
   "outputs": [],
   "source": [
    "features_list = ['poi', 'salary', 'bonus', 'total_stock_value', 'exercised_stock_options', 'from_this_person_to_poi_proportion',\n",
    "                 'from_poi_to_this_person_proportion', 'long_term_incentive', 'shared_receipt_with_poi','restricted_stock', \n",
    "                        'total_payments']\n",
    "\n",
    "### Extract features and labels from dataset for local testing\n",
    "data = featureFormat(my_dataset, features_list, sort_keys = True)\n",
    "labels, features = targetFeatureSplit(data)"
   ]
  },
  {
   "cell_type": "markdown",
   "metadata": {},
   "source": [
    "### Feature scaling\n",
    "\n",
    "I am not preforming any feature scaling because the algorithm I will be using do not require feature scaling"
   ]
  },
  {
   "cell_type": "markdown",
   "metadata": {},
   "source": [
    "## Question 3: What algorithm did you end up using? What other one(s) did you try? How did model performance differ between algorithms?  "
   ]
  },
  {
   "cell_type": "markdown",
   "metadata": {},
   "source": [
    "### Trying a variety of classifiers\n",
    "\n",
    "#### Decision Trees"
   ]
  },
  {
   "cell_type": "code",
   "execution_count": 77,
   "metadata": {
    "collapsed": true
   },
   "outputs": [],
   "source": [
    "##Splitting the data into train and test\n",
    "features_train, features_test, labels_train, labels_test=train_test_split(features, labels, test_size=.3,random_state=42)"
   ]
  },
  {
   "cell_type": "code",
   "execution_count": 79,
   "metadata": {
    "collapsed": false
   },
   "outputs": [
    {
     "name": "stdout",
     "output_type": "stream",
     "text": [
      "DecisionTreeClassifier(class_weight=None, criterion='gini', max_depth=None,\n",
      "            max_features=None, max_leaf_nodes=None,\n",
      "            min_impurity_split=1e-07, min_samples_leaf=1,\n",
      "            min_samples_split=2, min_weight_fraction_leaf=0.0,\n",
      "            presort=False, random_state=None, splitter='best')\n",
      "\tAccuracy: 0.82173\tPrecision: 0.31645\tRecall: 0.29050\tF1: 0.30292\tF2: 0.29534\n",
      "\tTotal predictions: 15000\tTrue positives:  581\tFalse positives: 1255\tFalse negatives: 1419\tTrue negatives: 11745\n",
      "\n"
     ]
    }
   ],
   "source": [
    "#Implementing Decision Tree Classifier\n",
    "clf=tree.DecisionTreeClassifier()\n",
    "clf.fit(features_train, labels_train)\n",
    "\n",
    "pred=clf.predict(features_test)\n",
    "\n",
    "#Using test_classifier from teater.py\n",
    "test_classifier(clf, my_dataset, features_list, folds = 1000)"
   ]
  },
  {
   "cell_type": "markdown",
   "metadata": {},
   "source": [
    "From above we see that the classifier has a pretty high accuracy score. However,recall is below 0.3."
   ]
  },
  {
   "cell_type": "code",
   "execution_count": 80,
   "metadata": {
    "collapsed": false
   },
   "outputs": [
    {
     "name": "stdout",
     "output_type": "stream",
     "text": [
      "salary  -  0.0\n",
      "bonus  -  0.111111111111\n",
      "total_stock_value  -  0.0907738095238\n",
      "exercised_stock_options  -  0.229224489796\n",
      "from_this_person_to_poi_proportion  -  0.126866365519\n",
      "from_poi_to_this_person_proportion  -  0.0\n",
      "long_term_incentive  -  0.104359925788\n",
      "shared_receipt_with_poi  -  0.176406926407\n",
      "restricted_stock  -  0.125543086141\n",
      "total_payments  -  0.0357142857143\n"
     ]
    }
   ],
   "source": [
    "# get a list of the relative importance of all the features being used\n",
    "importances = clf.feature_importances_ \n",
    "\n",
    "for impt_num, impt in enumerate(clf.feature_importances_):\n",
    "    position=impt_num\n",
    "    print features_list[position+1], \" - \", impt"
   ]
  },
  {
   "cell_type": "markdown",
   "metadata": {},
   "source": [
    "In the decision tree algoritm the most inportant features (having importance value>0) are salary, bonus, total_stock_value,\n",
    "exercised_stock_options, from_this_person_to_poi_proportion, from_poi_to_this_person_proportion, shared_receipt_with_poi , other, restricted stock, total_payments.\n",
    "\n"
   ]
  },
  {
   "cell_type": "markdown",
   "metadata": {},
   "source": [
    "#### Naive Bayes"
   ]
  },
  {
   "cell_type": "code",
   "execution_count": 81,
   "metadata": {
    "collapsed": false
   },
   "outputs": [
    {
     "name": "stdout",
     "output_type": "stream",
     "text": [
      "GaussianNB(priors=None)\n",
      "\tAccuracy: 0.83313\tPrecision: 0.32547\tRecall: 0.23450\tF1: 0.27260\tF2: 0.24838\n",
      "\tTotal predictions: 15000\tTrue positives:  469\tFalse positives:  972\tFalse negatives: 1531\tTrue negatives: 12028\n",
      "\n"
     ]
    }
   ],
   "source": [
    "clf = GaussianNB()\n",
    "clf.fit(features_train, labels_train)\n",
    "\n",
    "pred=clf.predict(features_test)\n",
    "\n",
    "#Using test_classifier from teter.py\n",
    "test_classifier(clf, my_dataset, features_list, folds = 1000)"
   ]
  },
  {
   "cell_type": "markdown",
   "metadata": {},
   "source": [
    "Naive Bayes while having a higher accuracy score has lower recall and F1 scores than Decision Tree algorithm. Precision are almost identical in both cases."
   ]
  },
  {
   "cell_type": "markdown",
   "metadata": {},
   "source": [
    "#### SVM"
   ]
  },
  {
   "cell_type": "code",
   "execution_count": 85,
   "metadata": {
    "collapsed": false
   },
   "outputs": [
    {
     "name": "stdout",
     "output_type": "stream",
     "text": [
      "Got a divide by zero when trying out: SVC(C=1.0, cache_size=200, class_weight=None, coef0=0.0,\n",
      "  decision_function_shape=None, degree=3, gamma='auto', kernel='rbf',\n",
      "  max_iter=-1, probability=False, random_state=None, shrinking=True,\n",
      "  tol=0.001, verbose=False)\n",
      "Precision or recall may be undefined due to a lack of true positive predicitons.\n"
     ]
    }
   ],
   "source": [
    "clf = SVC(kernel = \"rbf\")\n",
    "#Using test_classifier from teter.py\n",
    "test_classifier(clf, my_dataset, features_list, folds = 1000)"
   ]
  },
  {
   "cell_type": "markdown",
   "metadata": {},
   "source": [
    "Support Vector Machines algortihm does not have enough true positives to make a prediction.\n",
    "\n",
    "I will pick Naive Bayes as my final algorithm. I do not need feature scaling since Naive Bayes do not require scaling."
   ]
  },
  {
   "cell_type": "markdown",
   "metadata": {},
   "source": [
    "## Question 4: What does it mean to tune the parameters of an algorithm, and what can happen if you don’t do this well?  How did you tune the parameters of your particular algorithm? "
   ]
  },
  {
   "cell_type": "markdown",
   "metadata": {},
   "source": [
    "### Parameter Tuning"
   ]
  },
  {
   "cell_type": "code",
   "execution_count": 268,
   "metadata": {
    "collapsed": false
   },
   "outputs": [
    {
     "name": "stdout",
     "output_type": "stream",
     "text": [
      "{'min_samples_split': 9}\n"
     ]
    }
   ],
   "source": [
    "param_grid = {'min_samples_split': np.arange(2, 15)}\n",
    "clf = GridSearchCV(tree.DecisionTreeClassifier(), param_grid)\n",
    "clf.fit(features_train, labels_train)\n",
    "print(clf.best_params_)"
   ]
  },
  {
   "cell_type": "markdown",
   "metadata": {},
   "source": [
    "Now run Decision Tree algorithm with suggested min_samples_split of 9\n"
   ]
  },
  {
   "cell_type": "code",
   "execution_count": 270,
   "metadata": {
    "collapsed": false
   },
   "outputs": [
    {
     "name": "stdout",
     "output_type": "stream",
     "text": [
      "DecisionTreeClassifier(class_weight=None, criterion='gini', max_depth=None,\n",
      "            max_features=None, max_leaf_nodes=None,\n",
      "            min_impurity_split=1e-07, min_samples_leaf=1,\n",
      "            min_samples_split=9, min_weight_fraction_leaf=0.0,\n",
      "            presort=False, random_state=None, splitter='best')\n",
      "\tAccuracy: 0.84073\tPrecision: 0.37635\tRecall: 0.29600\tF1: 0.33137\tF2: 0.30920\n",
      "\tTotal predictions: 15000\tTrue positives:  592\tFalse positives:  981\tFalse negatives: 1408\tTrue negatives: 12019\n",
      "\n"
     ]
    }
   ],
   "source": [
    "clf=tree.DecisionTreeClassifier(min_samples_split=9)\n",
    "clf.fit(features_train, labels_train)\n",
    "\n",
    "pred=clf.predict(features_test)\n",
    "\n",
    "#Using test_classifier from teter.py\n",
    "test_classifier(clf, my_dataset, features_list, folds = 1000)\n",
    "\n"
   ]
  },
  {
   "cell_type": "markdown",
   "metadata": {},
   "source": [
    "Using tuning of min_samples_split I got higher accuracy score, precision and F1./ Recall score is a bit lower (0.29)"
   ]
  },
  {
   "cell_type": "markdown",
   "metadata": {},
   "source": [
    "#### 0.2.3.1 Tuning features list"
   ]
  },
  {
   "cell_type": "markdown",
   "metadata": {},
   "source": [
    "After tunig the min_samples_szieoour recall score droped below 0,3. I will try tuing more to imporove it. I will use Select KBest features on featuresa an labels"
   ]
  },
  {
   "cell_type": "code",
   "execution_count": 290,
   "metadata": {
    "collapsed": false
   },
   "outputs": [
    {
     "name": "stdout",
     "output_type": "stream",
     "text": [
      "salary 18.575703268\n",
      "bonus 21.0600017075\n",
      "total_stock_value 24.4676540475\n",
      "exercised_stock_options 25.0975415287\n",
      "from_this_person_to_poi_proportion 16.6417070705\n",
      "from_poi_to_this_person_proportion 3.21076191697\n",
      "to_messages 1.69882434858\n",
      "expenses 6.23420114051\n",
      "long_term_incentive 10.0724545294\n",
      "shared_receipt_with_poi 8.74648553213\n",
      "from_messages 0.164164498234\n",
      "other 4.2049708583\n",
      "restricted_stock 9.34670079105\n",
      "total_payments 8.86672153711\n"
     ]
    }
   ],
   "source": [
    "k_best = SelectKBest(k='all')\n",
    "k_best.fit(features, labels)\n",
    "for impt_num, impt in enumerate(k_best_features.scores_):\n",
    "    print features_list[1+impt_num], impt\n"
   ]
  },
  {
   "cell_type": "markdown",
   "metadata": {},
   "source": [
    "I will use top 5 best features in my final features_list: exercised_stock_options ,total_stock_value,bonus ,salary ,from_this_person_to_poi_proportion"
   ]
  },
  {
   "cell_type": "code",
   "execution_count": 298,
   "metadata": {
    "collapsed": false
   },
   "outputs": [
    {
     "name": "stdout",
     "output_type": "stream",
     "text": [
      "DecisionTreeClassifier(class_weight=None, criterion='gini', max_depth=None,\n",
      "            max_features=None, max_leaf_nodes=None,\n",
      "            min_impurity_split=1e-07, min_samples_leaf=1,\n",
      "            min_samples_split=4, min_weight_fraction_leaf=0.0,\n",
      "            presort=False, random_state=None, splitter='best')\n",
      "\tAccuracy: 0.83427\tPrecision: 0.36224\tRecall: 0.31950\tF1: 0.33953\tF2: 0.32722\n",
      "\tTotal predictions: 15000\tTrue positives:  639\tFalse positives: 1125\tFalse negatives: 1361\tTrue negatives: 11875\n",
      "\n"
     ]
    }
   ],
   "source": [
    "final_features = ['exercised_stock_options' , 'total_stock_value' , 'bonus' , 'salary', 'from_this_person_to_poi_proportion']\n",
    "### Extract features and labels from dataset for local testing\n",
    "data = featureFormat(my_dataset, features_list, sort_keys = True)\n",
    "labels, features = targetFeatureSplit(data)\n",
    "\n",
    "##Splitting the data into train and test\n",
    "features_train, features_test, labels_train, labels_test=train_test_split(features, labels, test_size=.3,random_state=42)\n",
    "\n",
    "clf=tree.DecisionTreeClassifier(min_samples_split=4)\n",
    "clf.fit(features_train, labels_train)\n",
    "\n",
    "pred=clf.predict(features_test)\n",
    "\n",
    "#Using test_classifier from teter.py\n",
    "test_classifier(clf, my_dataset, features_list, folds = 1000)"
   ]
  },
  {
   "cell_type": "code",
   "execution_count": null,
   "metadata": {
    "collapsed": true
   },
   "outputs": [],
   "source": []
  }
 ],
 "metadata": {
  "anaconda-cloud": {},
  "kernelspec": {
   "display_name": "Python [default]",
   "language": "python",
   "name": "python2"
  },
  "language_info": {
   "codemirror_mode": {
    "name": "ipython",
    "version": 2
   },
   "file_extension": ".py",
   "mimetype": "text/x-python",
   "name": "python",
   "nbconvert_exporter": "python",
   "pygments_lexer": "ipython2",
   "version": "2.7.13"
  }
 },
 "nbformat": 4,
 "nbformat_minor": 2
}
